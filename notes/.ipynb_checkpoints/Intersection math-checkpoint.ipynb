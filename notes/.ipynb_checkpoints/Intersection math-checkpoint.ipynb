{
 "metadata": {
  "name": "",
  "signature": "sha256:8cc599bff3c9cf0def8f923ecceddc453f179417c146a9f8436f14cf0fa9450d"
 },
 "nbformat": 3,
 "nbformat_minor": 0,
 "worksheets": []
}