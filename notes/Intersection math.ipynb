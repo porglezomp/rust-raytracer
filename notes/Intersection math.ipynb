{
 "metadata": {
  "name": "",
  "signature": "sha256:0dcc27140e01a8b65ed30617f279cc569d879509b52b8b4640c4d84500ac5d73"
 },
 "nbformat": 3,
 "nbformat_minor": 0,
 "worksheets": [
  {
   "cells": [
    {
     "cell_type": "markdown",
     "metadata": {},
     "source": [
      "# Ray-Sphere intersection\n",
      "We want to intersect some ray parameterized as\n",
      "$$ R = O_R+tV_R, t > 0$$\n",
      "with a sphere\n",
      "$$ (x-S_x)^2 + (y-S_y)^2 + (z-S_z)^2 = r_S^2 $$\n",
      "or written as a vector equation,\n",
      "$$ \\| P-O_S \\| = r_S $$"
     ]
    },
    {
     "cell_type": "markdown",
     "metadata": {},
     "source": [
      "We want to find the $t$ in $R$ where $R(t)$ is equal to some $P \\in S$, which we can find by substituting $R$ for $P$.\n",
      "$$ \\| O_R + tV_R - O_S \\| = r_S $$\n",
      "Is equal to the quadtratic equation:\n",
      "$$ (O_R - O_S + tV_R)^2 = r_S^2 $$\n",
      "Let us subsititue $ \\Delta p $ for $O_R - O_S$, giving:\n",
      "$$ (tV_R + \\Delta p)^2 = r_S^2 $$\n",
      "$$ V_R^2t^2 + 2 \\Delta p \\cdot V_Rt + \\Delta p^2 - r_S^2 = 0 $$\n",
      "The number of solutions can be found using the discriminant $b^2 - 4ac$, which comes out to:\n",
      "$$ \\Delta = (2 \\Delta p \\cdot V_R)^2 - 4V_R^2 \\cdot (\\Delta p^2 - r_S^2) $$\n",
      "If $\\Delta < 0$, there is no intersection, if $\\Delta = 0$, there is one point of intersection, if $\\Delta > 0$, there are two points of intersection."
     ]
    },
    {
     "cell_type": "markdown",
     "metadata": {},
     "source": [
      "Just look at the [wikipedia article](http://en.wikipedia.org/wiki/Line%E2%80%93sphere_intersection), I came out with the same method, but theirs is cleaner."
     ]
    },
    {
     "cell_type": "code",
     "collapsed": false,
     "input": [],
     "language": "python",
     "metadata": {},
     "outputs": []
    }
   ],
   "metadata": {}
  }
 ]
}